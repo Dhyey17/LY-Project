{
 "cells": [
  {
   "cell_type": "code",
   "execution_count": 1,
   "id": "0e6fa826",
   "metadata": {},
   "outputs": [],
   "source": [
    "from pymetamap import MetaMap\n",
    "import pandas as pd\n",
    "\n",
    "pd.set_option('display.max_rows', 10000)"
   ]
  },
  {
   "cell_type": "code",
   "execution_count": 2,
   "id": "dc76a5be",
   "metadata": {},
   "outputs": [],
   "source": [
    "mm = MetaMap.get_instance(\"/home/dhyey/Files/Python/LY-Project/Docs/public_mm/bin/metamap\")"
   ]
  },
  {
   "cell_type": "code",
   "execution_count": 3,
   "id": "c5b29cae",
   "metadata": {},
   "outputs": [],
   "source": [
    "def get_keys_from_mm(concept, klist):\n",
    "    conc_dict = concept._asdict()\n",
    "    conc_list = [conc_dict.get(kk) for kk in klist]\n",
    "    return (tuple(conc_list))\n"
   ]
  },
  {
   "cell_type": "code",
   "execution_count": 4,
   "id": "cf1e07b4",
   "metadata": {},
   "outputs": [],
   "source": [
    "# file = open(\"SnowmedMetaMap/Sentences.txt\")\n",
    "# data = file.readlines()\n",
    "# file.close()\n",
    "\n",
    "data=[\"The patient was treated for acute sinusitis, which caused a thick discharge of mucus from the nose and throat.\"]"
   ]
  },
  {
   "cell_type": "code",
   "execution_count": 5,
   "id": "eb82790a",
   "metadata": {
    "scrolled": true
   },
   "outputs": [
    {
     "data": {
      "text/plain": [
       "['The patient was treated for acute sinusitis, which caused a thick discharge of mucus from the nose and throat.']"
      ]
     },
     "execution_count": 5,
     "metadata": {},
     "output_type": "execute_result"
    }
   ],
   "source": [
    "data"
   ]
  },
  {
   "cell_type": "code",
   "execution_count": 6,
   "id": "9d6166ce",
   "metadata": {},
   "outputs": [],
   "source": [
    "concepts, error = mm.extract_concepts(data, composite_phrase=4)"
   ]
  },
  {
   "cell_type": "code",
   "execution_count": 7,
   "id": "a6bb02d2",
   "metadata": {
    "scrolled": true
   },
   "outputs": [
    {
     "data": {
      "text/plain": [
       "[ConceptMMI(index='USER', mm='MMI', score='5.18', preferred_name='Anterior portion of neck', cui='C0230069', semtypes='[blor]', trigger='[\"Throat\"-tx-1-\"throat\"-noun-0]', location='TX', pos_info='104/6', tree_codes=''),\n",
       " ConceptMMI(index='USER', mm='MMI', score='5.18', preferred_name='Nose', cui='C0028429', semtypes='[bpoc]', trigger='[\"NOSE\"-tx-1-\"nose\"-noun-0]', location='TX', pos_info='95/4', tree_codes=''),\n",
       " ConceptMMI(index='USER', mm='MMI', score='5.18', preferred_name='Patients', cui='C0030705', semtypes='[podg]', trigger='[\"*^patient\"-tx-1-\"patient\"-noun-0]', location='TX', pos_info='5/7', tree_codes=''),\n",
       " ConceptMMI(index='USER', mm='MMI', score='5.18', preferred_name='Pharyngeal structure', cui='C0031354', semtypes='[bpoc]', trigger='[\"Throat\"-tx-1-\"throat\"-noun-0]', location='TX', pos_info='104/6', tree_codes=''),\n",
       " ConceptMMI(index='USER', mm='MMI', score='5.18', preferred_name='Throat', cui='C3665375', semtypes='[bpoc]', trigger='[\"THROAT\"-tx-1-\"throat\"-noun-0]', location='TX', pos_info='104/6', tree_codes=''),\n",
       " ConceptMMI(index='USER', mm='MMI', score='3.98', preferred_name='Etiology aspects', cui='C0015127', semtypes='[ftcn]', trigger='[\"cause\"-tx-1-\"caused\"-verb-0]', location='TX', pos_info='52/6', tree_codes=''),\n",
       " ConceptMMI(index='USER', mm='MMI', score='3.98', preferred_name='Science of Etiology', cui='C1524003', semtypes='[cnce]', trigger='[\"Cause\"-tx-1-\"caused\"-verb-0]', location='TX', pos_info='52/6', tree_codes=''),\n",
       " ConceptMMI(index='USER', mm='MMI', score='3.64', preferred_name='Acute sinusitis', cui='C0149512', semtypes='[dsyn]', trigger='[\"ACUTE SINUSITIS\"-tx-1-\"acute sinusitis\"-noun-0]', location='TX', pos_info='29/15', tree_codes=''),\n",
       " ConceptMMI(index='USER', mm='MMI', score='3.60', preferred_name='Mucus discharge', cui='C0333273', semtypes='[bdsu]', trigger='[\"discharge mucus\"-tx-1-\"discharge mucus\"-noun-0]', location='TX', pos_info='67/9,80/5', tree_codes=''),\n",
       " ConceptMMI(index='USER', mm='MMI', score='3.57', preferred_name='Treating', cui='C1522326', semtypes='[ftcn]', trigger='[\"Treated\"-tx-1-\"treated\"-verb-0]', location='TX', pos_info='17/7', tree_codes=''),\n",
       " ConceptMMI(index='USER', mm='MMI', score='3.43', preferred_name='Thick', cui='C1280412', semtypes='[qlco]', trigger='[\"THICK\"-tx-1-\"thick\"-adj-0]', location='TX', pos_info='61/5', tree_codes='')]"
      ]
     },
     "execution_count": 7,
     "metadata": {},
     "output_type": "execute_result"
    }
   ],
   "source": [
    "concepts"
   ]
  },
  {
   "cell_type": "code",
   "execution_count": 8,
   "id": "568cdeb6",
   "metadata": {},
   "outputs": [
    {
     "name": "stdout",
     "output_type": "stream",
     "text": [
      "[('Anterior portion of neck', 'C0230069', '[blor]', '5.18'), ('Nose', 'C0028429', '[bpoc]', '5.18'), ('Patients', 'C0030705', '[podg]', '5.18'), ('Pharyngeal structure', 'C0031354', '[bpoc]', '5.18'), ('Throat', 'C3665375', '[bpoc]', '5.18'), ('Etiology aspects', 'C0015127', '[ftcn]', '3.98'), ('Science of Etiology', 'C1524003', '[cnce]', '3.98'), ('Acute sinusitis', 'C0149512', '[dsyn]', '3.64'), ('Mucus discharge', 'C0333273', '[bdsu]', '3.60'), ('Treating', 'C1522326', '[ftcn]', '3.57'), ('Thick', 'C1280412', '[qlco]', '3.43')]\n"
     ]
    }
   ],
   "source": [
    "keys_of_interest = ['preferred_name', 'cui', 'semtypes', 'score']\n",
    "cols = [get_keys_from_mm(cc, keys_of_interest) for cc in concepts]\n",
    "print(cols)\n",
    "results_df = pd.DataFrame(cols, columns=keys_of_interest)"
   ]
  },
  {
   "cell_type": "code",
   "execution_count": 9,
   "id": "28859406",
   "metadata": {
    "scrolled": true
   },
   "outputs": [
    {
     "data": {
      "text/html": [
       "<div>\n",
       "<style scoped>\n",
       "    .dataframe tbody tr th:only-of-type {\n",
       "        vertical-align: middle;\n",
       "    }\n",
       "\n",
       "    .dataframe tbody tr th {\n",
       "        vertical-align: top;\n",
       "    }\n",
       "\n",
       "    .dataframe thead th {\n",
       "        text-align: right;\n",
       "    }\n",
       "</style>\n",
       "<table border=\"1\" class=\"dataframe\">\n",
       "  <thead>\n",
       "    <tr style=\"text-align: right;\">\n",
       "      <th></th>\n",
       "      <th>preferred_name</th>\n",
       "      <th>cui</th>\n",
       "      <th>semtypes</th>\n",
       "      <th>score</th>\n",
       "    </tr>\n",
       "  </thead>\n",
       "  <tbody>\n",
       "    <tr>\n",
       "      <th>0</th>\n",
       "      <td>Anterior portion of neck</td>\n",
       "      <td>C0230069</td>\n",
       "      <td>[blor]</td>\n",
       "      <td>5.18</td>\n",
       "    </tr>\n",
       "    <tr>\n",
       "      <th>1</th>\n",
       "      <td>Nose</td>\n",
       "      <td>C0028429</td>\n",
       "      <td>[bpoc]</td>\n",
       "      <td>5.18</td>\n",
       "    </tr>\n",
       "    <tr>\n",
       "      <th>2</th>\n",
       "      <td>Patients</td>\n",
       "      <td>C0030705</td>\n",
       "      <td>[podg]</td>\n",
       "      <td>5.18</td>\n",
       "    </tr>\n",
       "    <tr>\n",
       "      <th>3</th>\n",
       "      <td>Pharyngeal structure</td>\n",
       "      <td>C0031354</td>\n",
       "      <td>[bpoc]</td>\n",
       "      <td>5.18</td>\n",
       "    </tr>\n",
       "    <tr>\n",
       "      <th>4</th>\n",
       "      <td>Throat</td>\n",
       "      <td>C3665375</td>\n",
       "      <td>[bpoc]</td>\n",
       "      <td>5.18</td>\n",
       "    </tr>\n",
       "    <tr>\n",
       "      <th>5</th>\n",
       "      <td>Etiology aspects</td>\n",
       "      <td>C0015127</td>\n",
       "      <td>[ftcn]</td>\n",
       "      <td>3.98</td>\n",
       "    </tr>\n",
       "    <tr>\n",
       "      <th>6</th>\n",
       "      <td>Science of Etiology</td>\n",
       "      <td>C1524003</td>\n",
       "      <td>[cnce]</td>\n",
       "      <td>3.98</td>\n",
       "    </tr>\n",
       "    <tr>\n",
       "      <th>7</th>\n",
       "      <td>Acute sinusitis</td>\n",
       "      <td>C0149512</td>\n",
       "      <td>[dsyn]</td>\n",
       "      <td>3.64</td>\n",
       "    </tr>\n",
       "    <tr>\n",
       "      <th>8</th>\n",
       "      <td>Mucus discharge</td>\n",
       "      <td>C0333273</td>\n",
       "      <td>[bdsu]</td>\n",
       "      <td>3.60</td>\n",
       "    </tr>\n",
       "    <tr>\n",
       "      <th>9</th>\n",
       "      <td>Treating</td>\n",
       "      <td>C1522326</td>\n",
       "      <td>[ftcn]</td>\n",
       "      <td>3.57</td>\n",
       "    </tr>\n",
       "    <tr>\n",
       "      <th>10</th>\n",
       "      <td>Thick</td>\n",
       "      <td>C1280412</td>\n",
       "      <td>[qlco]</td>\n",
       "      <td>3.43</td>\n",
       "    </tr>\n",
       "  </tbody>\n",
       "</table>\n",
       "</div>"
      ],
      "text/plain": [
       "              preferred_name       cui semtypes score\n",
       "0   Anterior portion of neck  C0230069   [blor]  5.18\n",
       "1                       Nose  C0028429   [bpoc]  5.18\n",
       "2                   Patients  C0030705   [podg]  5.18\n",
       "3       Pharyngeal structure  C0031354   [bpoc]  5.18\n",
       "4                     Throat  C3665375   [bpoc]  5.18\n",
       "5           Etiology aspects  C0015127   [ftcn]  3.98\n",
       "6        Science of Etiology  C1524003   [cnce]  3.98\n",
       "7            Acute sinusitis  C0149512   [dsyn]  3.64\n",
       "8            Mucus discharge  C0333273   [bdsu]  3.60\n",
       "9                   Treating  C1522326   [ftcn]  3.57\n",
       "10                     Thick  C1280412   [qlco]  3.43"
      ]
     },
     "execution_count": 9,
     "metadata": {},
     "output_type": "execute_result"
    }
   ],
   "source": [
    "results_df"
   ]
  },
  {
   "cell_type": "code",
   "execution_count": 10,
   "id": "2270f1ca",
   "metadata": {},
   "outputs": [],
   "source": [
    "results_df.to_csv('metamap_output.csv', index=False)"
   ]
  }
 ],
 "metadata": {
  "kernelspec": {
   "display_name": "Python 3 (ipykernel)",
   "language": "python",
   "name": "python3"
  },
  "language_info": {
   "codemirror_mode": {
    "name": "ipython",
    "version": 3
   },
   "file_extension": ".py",
   "mimetype": "text/x-python",
   "name": "python",
   "nbconvert_exporter": "python",
   "pygments_lexer": "ipython3",
   "version": "3.11.2"
  }
 },
 "nbformat": 4,
 "nbformat_minor": 5
}
