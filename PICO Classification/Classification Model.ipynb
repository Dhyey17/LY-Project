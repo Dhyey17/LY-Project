{
 "cells": [
  {
   "cell_type": "markdown",
   "id": "559e0995",
   "metadata": {},
   "source": [
    "# Libraries"
   ]
  },
  {
   "cell_type": "code",
   "execution_count": 1,
   "id": "08370aea",
   "metadata": {},
   "outputs": [],
   "source": [
    "import matplotlib\n",
    "import matplotlib.pyplot as plt\n",
    "import matplotlib.style as style\n",
    "import numpy as np\n",
    "import pandas as pd\n",
    "import plotly.express as px\n",
    "import seaborn as sns\n",
    "from scipy import stats\n",
    "import warnings\n",
    "\n",
    "from sklearn.model_selection import train_test_split \n",
    "from sklearn.feature_extraction.text import CountVectorizer\n",
    "\n",
    "warnings.filterwarnings('ignore')"
   ]
  },
  {
   "cell_type": "markdown",
   "id": "73852454",
   "metadata": {},
   "source": [
    "# Loading Dataset"
   ]
  },
  {
   "cell_type": "code",
   "execution_count": 2,
   "id": "1315f42e",
   "metadata": {},
   "outputs": [],
   "source": [
    "data = pd.read_excel(\"dataset.xlsx\")"
   ]
  },
  {
   "cell_type": "code",
   "execution_count": 3,
   "id": "225b55fd",
   "metadata": {},
   "outputs": [
    {
     "data": {
      "text/plain": [
       "(29, 2)"
      ]
     },
     "execution_count": 3,
     "metadata": {},
     "output_type": "execute_result"
    }
   ],
   "source": [
    "data.shape"
   ]
  },
  {
   "cell_type": "markdown",
   "id": "fde3b1ef",
   "metadata": {},
   "source": [
    "# EDA"
   ]
  },
  {
   "cell_type": "code",
   "execution_count": 4,
   "id": "c2004a0a",
   "metadata": {},
   "outputs": [
    {
     "data": {
      "text/html": [
       "<div>\n",
       "<style scoped>\n",
       "    .dataframe tbody tr th:only-of-type {\n",
       "        vertical-align: middle;\n",
       "    }\n",
       "\n",
       "    .dataframe tbody tr th {\n",
       "        vertical-align: top;\n",
       "    }\n",
       "\n",
       "    .dataframe thead th {\n",
       "        text-align: right;\n",
       "    }\n",
       "</style>\n",
       "<table border=\"1\" class=\"dataframe\">\n",
       "  <thead>\n",
       "    <tr style=\"text-align: right;\">\n",
       "      <th></th>\n",
       "      <th>Sentence</th>\n",
       "      <th>Outcome</th>\n",
       "    </tr>\n",
       "  </thead>\n",
       "  <tbody>\n",
       "    <tr>\n",
       "      <th>0</th>\n",
       "      <td>What is the difference between depression and ...</td>\n",
       "      <td>C</td>\n",
       "    </tr>\n",
       "    <tr>\n",
       "      <th>1</th>\n",
       "      <td>What are other psychiatric conditions that can...</td>\n",
       "      <td>C</td>\n",
       "    </tr>\n",
       "    <tr>\n",
       "      <th>2</th>\n",
       "      <td>Why is depression more prevalent in women than...</td>\n",
       "      <td>C</td>\n",
       "    </tr>\n",
       "    <tr>\n",
       "      <th>3</th>\n",
       "      <td>What happens during menopause with regards to ...</td>\n",
       "      <td>C</td>\n",
       "    </tr>\n",
       "    <tr>\n",
       "      <th>4</th>\n",
       "      <td>What efforts are underway to improve treatment...</td>\n",
       "      <td>C</td>\n",
       "    </tr>\n",
       "  </tbody>\n",
       "</table>\n",
       "</div>"
      ],
      "text/plain": [
       "                                            Sentence Outcome\n",
       "0  What is the difference between depression and ...       C\n",
       "1  What are other psychiatric conditions that can...       C\n",
       "2  Why is depression more prevalent in women than...       C\n",
       "3  What happens during menopause with regards to ...       C\n",
       "4  What efforts are underway to improve treatment...       C"
      ]
     },
     "execution_count": 4,
     "metadata": {},
     "output_type": "execute_result"
    }
   ],
   "source": [
    "data.head()"
   ]
  },
  {
   "cell_type": "code",
   "execution_count": 5,
   "id": "a005d321",
   "metadata": {},
   "outputs": [
    {
     "name": "stdout",
     "output_type": "stream",
     "text": [
      "<class 'pandas.core.frame.DataFrame'>\n",
      "RangeIndex: 29 entries, 0 to 28\n",
      "Data columns (total 2 columns):\n",
      " #   Column    Non-Null Count  Dtype \n",
      "---  ------    --------------  ----- \n",
      " 0   Sentence  29 non-null     object\n",
      " 1   Outcome   29 non-null     object\n",
      "dtypes: object(2)\n",
      "memory usage: 592.0+ bytes\n"
     ]
    }
   ],
   "source": [
    "data.info()"
   ]
  },
  {
   "cell_type": "code",
   "execution_count": 6,
   "id": "eece150a",
   "metadata": {},
   "outputs": [
    {
     "name": "stdout",
     "output_type": "stream",
     "text": [
      "What is the difference between depression and sadness?                                                                1\n",
      "What are some of the treatments for depression?                                                                       1\n",
      "What is Postpartum Depression (PPD)?                                                                                  1\n",
      "What are some of the signs and symptoms of depression?                                                                1\n",
      "What is depression?                                                                                                   1\n",
      "What is postpartum depression?                                                                                        1\n",
      "Can depression affect children?                                                                                       1\n",
      "Who is at risk of depression?                                                                                         1\n",
      "What are the causes of depression?                                                                                    1\n",
      "Could my depression be causing me physical pain?                                                                      1\n",
      "Can depression cause lack of concentration?                                                                           1\n",
      "How could depression affect my sleep?                                                                                 1\n",
      "How might depression affect my appetite and weight?                                                                   1\n",
      "What about depression later in life?                                                                                  1\n",
      "Can depression affect physical health?                                                                                1\n",
      "What are other psychiatric conditions that can co-exist with depression?                                              1\n",
      "Do I need medicine to treat my depression?                                                                            1\n",
      "Can brain scans guide treatment for depression?                                                                       1\n",
      "What ideas are on the horizon for better, more effective ways to treat depression?                                    1\n",
      "How can treatment-resistant depression be treated?                                                                    1\n",
      "What is the most promising recent development to treat depression?                                                    1\n",
      "How is depression diagnosed and treated?                                                                              1\n",
      "Is depression treatable?                                                                                              1\n",
      "Could other health conditions be contributing to my symptoms of depression?                                           1\n",
      "Why have researchers so far failed to identify common gene mutations that contribute to risk for major depression?    1\n",
      "What efforts are underway to improve treatment of depression?                                                         1\n",
      "What happens during menopause with regards to the brain and depression?                                               1\n",
      "Why is depression more prevalent in women than in men?                                                                1\n",
      "What is treatment-resistant depression?                                                                               1\n",
      "Name: Sentence, dtype: int64\n",
      "P    8\n",
      "C    7\n",
      "I    7\n",
      "O    7\n",
      "Name: Outcome, dtype: int64\n"
     ]
    }
   ],
   "source": [
    "for col in data.columns:\n",
    "    print(data[col].value_counts())"
   ]
  },
  {
   "cell_type": "code",
   "execution_count": 7,
   "id": "8e210406",
   "metadata": {},
   "outputs": [
    {
     "data": {
      "text/plain": [
       "P    8\n",
       "C    7\n",
       "I    7\n",
       "O    7\n",
       "Name: Outcome, dtype: int64"
      ]
     },
     "execution_count": 7,
     "metadata": {},
     "output_type": "execute_result"
    }
   ],
   "source": [
    "data['Outcome'].value_counts()"
   ]
  },
  {
   "cell_type": "code",
   "execution_count": 8,
   "id": "a6db84c3",
   "metadata": {},
   "outputs": [
    {
     "data": {
      "text/plain": [
       "Sentence    object\n",
       "Outcome     object\n",
       "dtype: object"
      ]
     },
     "execution_count": 8,
     "metadata": {},
     "output_type": "execute_result"
    }
   ],
   "source": [
    "data.dtypes"
   ]
  },
  {
   "cell_type": "code",
   "execution_count": 9,
   "id": "e3abb81c",
   "metadata": {},
   "outputs": [
    {
     "data": {
      "text/plain": [
       "P    0.275862\n",
       "C    0.241379\n",
       "I    0.241379\n",
       "O    0.241379\n",
       "Name: Outcome, dtype: float64"
      ]
     },
     "execution_count": 9,
     "metadata": {},
     "output_type": "execute_result"
    }
   ],
   "source": [
    "data['Outcome'].value_counts()/np.float(len(data))"
   ]
  },
  {
   "cell_type": "code",
   "execution_count": 10,
   "id": "a15617f1",
   "metadata": {},
   "outputs": [
    {
     "name": "stdout",
     "output_type": "stream",
     "text": [
      "                                                 Sentence Outcome\n",
      "count                                                  29      29\n",
      "unique                                                 29       4\n",
      "top     What is the difference between depression and ...       P\n",
      "freq                                                    1       8\n"
     ]
    }
   ],
   "source": [
    "print(round(data.describe(),4))"
   ]
  },
  {
   "cell_type": "markdown",
   "id": "3eb2d197",
   "metadata": {},
   "source": [
    "# Feature Vector and Target Variable"
   ]
  },
  {
   "cell_type": "code",
   "execution_count": 11,
   "id": "b8a2bd41",
   "metadata": {},
   "outputs": [],
   "source": [
    "x=data.drop([\"Outcome\"],axis=1)\n",
    "y=data[\"Outcome\"]"
   ]
  },
  {
   "cell_type": "code",
   "execution_count": 12,
   "id": "99319a1f",
   "metadata": {},
   "outputs": [],
   "source": [
    "import nltk\n",
    "import nltk.corpus"
   ]
  },
  {
   "cell_type": "code",
   "execution_count": null,
   "id": "77723fee",
   "metadata": {},
   "outputs": [],
   "source": []
  }
 ],
 "metadata": {
  "kernelspec": {
   "display_name": "Python 3 (ipykernel)",
   "language": "python",
   "name": "python3"
  },
  "language_info": {
   "codemirror_mode": {
    "name": "ipython",
    "version": 3
   },
   "file_extension": ".py",
   "mimetype": "text/x-python",
   "name": "python",
   "nbconvert_exporter": "python",
   "pygments_lexer": "ipython3",
   "version": "3.10.1"
  }
 },
 "nbformat": 4,
 "nbformat_minor": 5
}
