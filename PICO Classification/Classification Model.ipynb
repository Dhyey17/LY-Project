{
 "cells": [
  {
   "cell_type": "markdown",
   "id": "559e0995",
   "metadata": {},
   "source": [
    "# Libraries"
   ]
  },
  {
   "cell_type": "code",
   "execution_count": 15,
   "id": "08370aea",
   "metadata": {},
   "outputs": [],
   "source": [
    "import matplotlib\n",
    "import matplotlib.pyplot as plt\n",
    "import matplotlib.style as style\n",
    "import numpy as np\n",
    "import pandas as pd\n",
    "import plotly.express as px\n",
    "import seaborn as sns\n",
    "from scipy import stats\n",
    "import warnings\n",
    "\n",
    "\n",
    "\n",
    "warnings.filterwarnings('ignore')"
   ]
  },
  {
   "cell_type": "markdown",
   "id": "73852454",
   "metadata": {},
   "source": [
    "# Loading Dataset"
   ]
  },
  {
   "cell_type": "code",
   "execution_count": 16,
   "id": "1315f42e",
   "metadata": {},
   "outputs": [],
   "source": [
    "data = pd.read_excel(\"dataset.xlsx\")"
   ]
  },
  {
   "cell_type": "code",
   "execution_count": 17,
   "id": "225b55fd",
   "metadata": {},
   "outputs": [
    {
     "data": {
      "text/plain": [
       "(29, 2)"
      ]
     },
     "execution_count": 17,
     "metadata": {},
     "output_type": "execute_result"
    }
   ],
   "source": [
    "data.shape"
   ]
  },
  {
   "cell_type": "markdown",
   "id": "fde3b1ef",
   "metadata": {},
   "source": [
    "# EDA"
   ]
  },
  {
   "cell_type": "code",
   "execution_count": 18,
   "id": "c2004a0a",
   "metadata": {},
   "outputs": [
    {
     "data": {
      "text/html": [
       "<div>\n",
       "<style scoped>\n",
       "    .dataframe tbody tr th:only-of-type {\n",
       "        vertical-align: middle;\n",
       "    }\n",
       "\n",
       "    .dataframe tbody tr th {\n",
       "        vertical-align: top;\n",
       "    }\n",
       "\n",
       "    .dataframe thead th {\n",
       "        text-align: right;\n",
       "    }\n",
       "</style>\n",
       "<table border=\"1\" class=\"dataframe\">\n",
       "  <thead>\n",
       "    <tr style=\"text-align: right;\">\n",
       "      <th></th>\n",
       "      <th>Sentence</th>\n",
       "      <th>Outcome</th>\n",
       "    </tr>\n",
       "  </thead>\n",
       "  <tbody>\n",
       "    <tr>\n",
       "      <th>0</th>\n",
       "      <td>What is the difference between depression and ...</td>\n",
       "      <td>C</td>\n",
       "    </tr>\n",
       "    <tr>\n",
       "      <th>1</th>\n",
       "      <td>What are other psychiatric conditions that can...</td>\n",
       "      <td>C</td>\n",
       "    </tr>\n",
       "    <tr>\n",
       "      <th>2</th>\n",
       "      <td>Why is depression more prevalent in women than...</td>\n",
       "      <td>C</td>\n",
       "    </tr>\n",
       "    <tr>\n",
       "      <th>3</th>\n",
       "      <td>What happens during menopause with regards to ...</td>\n",
       "      <td>C</td>\n",
       "    </tr>\n",
       "    <tr>\n",
       "      <th>4</th>\n",
       "      <td>What efforts are underway to improve treatment...</td>\n",
       "      <td>C</td>\n",
       "    </tr>\n",
       "  </tbody>\n",
       "</table>\n",
       "</div>"
      ],
      "text/plain": [
       "                                            Sentence Outcome\n",
       "0  What is the difference between depression and ...       C\n",
       "1  What are other psychiatric conditions that can...       C\n",
       "2  Why is depression more prevalent in women than...       C\n",
       "3  What happens during menopause with regards to ...       C\n",
       "4  What efforts are underway to improve treatment...       C"
      ]
     },
     "execution_count": 18,
     "metadata": {},
     "output_type": "execute_result"
    }
   ],
   "source": [
    "data.head()"
   ]
  },
  {
   "cell_type": "code",
   "execution_count": 19,
   "id": "a005d321",
   "metadata": {},
   "outputs": [
    {
     "name": "stdout",
     "output_type": "stream",
     "text": [
      "<class 'pandas.core.frame.DataFrame'>\n",
      "RangeIndex: 29 entries, 0 to 28\n",
      "Data columns (total 2 columns):\n",
      " #   Column    Non-Null Count  Dtype \n",
      "---  ------    --------------  ----- \n",
      " 0   Sentence  29 non-null     object\n",
      " 1   Outcome   29 non-null     object\n",
      "dtypes: object(2)\n",
      "memory usage: 592.0+ bytes\n"
     ]
    }
   ],
   "source": [
    "data.info()"
   ]
  },
  {
   "cell_type": "code",
   "execution_count": 20,
   "id": "eece150a",
   "metadata": {},
   "outputs": [
    {
     "name": "stdout",
     "output_type": "stream",
     "text": [
      "What is the difference between depression and sadness?                                                                1\n",
      "What are some of the treatments for depression?                                                                       1\n",
      "What is Postpartum Depression (PPD)?                                                                                  1\n",
      "What are some of the signs and symptoms of depression?                                                                1\n",
      "What is depression?                                                                                                   1\n",
      "What is postpartum depression?                                                                                        1\n",
      "Can depression affect children?                                                                                       1\n",
      "Who is at risk of depression?                                                                                         1\n",
      "What are the causes of depression?                                                                                    1\n",
      "Could my depression be causing me physical pain?                                                                      1\n",
      "Can depression cause lack of concentration?                                                                           1\n",
      "How could depression affect my sleep?                                                                                 1\n",
      "How might depression affect my appetite and weight?                                                                   1\n",
      "What about depression later in life?                                                                                  1\n",
      "Can depression affect physical health?                                                                                1\n",
      "What are other psychiatric conditions that can co-exist with depression?                                              1\n",
      "Do I need medicine to treat my depression?                                                                            1\n",
      "Can brain scans guide treatment for depression?                                                                       1\n",
      "What ideas are on the horizon for better, more effective ways to treat depression?                                    1\n",
      "How can treatment-resistant depression be treated?                                                                    1\n",
      "What is the most promising recent development to treat depression?                                                    1\n",
      "How is depression diagnosed and treated?                                                                              1\n",
      "Is depression treatable?                                                                                              1\n",
      "Could other health conditions be contributing to my symptoms of depression?                                           1\n",
      "Why have researchers so far failed to identify common gene mutations that contribute to risk for major depression?    1\n",
      "What efforts are underway to improve treatment of depression?                                                         1\n",
      "What happens during menopause with regards to the brain and depression?                                               1\n",
      "Why is depression more prevalent in women than in men?                                                                1\n",
      "What is treatment-resistant depression?                                                                               1\n",
      "Name: Sentence, dtype: int64\n",
      "P    8\n",
      "C    7\n",
      "I    7\n",
      "O    7\n",
      "Name: Outcome, dtype: int64\n"
     ]
    }
   ],
   "source": [
    "for col in data.columns:\n",
    "    print(data[col].value_counts())"
   ]
  },
  {
   "cell_type": "code",
   "execution_count": 21,
   "id": "8e210406",
   "metadata": {},
   "outputs": [
    {
     "data": {
      "text/plain": [
       "P    8\n",
       "C    7\n",
       "I    7\n",
       "O    7\n",
       "Name: Outcome, dtype: int64"
      ]
     },
     "execution_count": 21,
     "metadata": {},
     "output_type": "execute_result"
    }
   ],
   "source": [
    "data['Outcome'].value_counts()"
   ]
  },
  {
   "cell_type": "code",
   "execution_count": 22,
   "id": "a6db84c3",
   "metadata": {},
   "outputs": [
    {
     "data": {
      "text/plain": [
       "Sentence    object\n",
       "Outcome     object\n",
       "dtype: object"
      ]
     },
     "execution_count": 22,
     "metadata": {},
     "output_type": "execute_result"
    }
   ],
   "source": [
    "data.dtypes"
   ]
  },
  {
   "cell_type": "code",
   "execution_count": 23,
   "id": "e3abb81c",
   "metadata": {},
   "outputs": [
    {
     "data": {
      "text/plain": [
       "P    0.275862\n",
       "C    0.241379\n",
       "I    0.241379\n",
       "O    0.241379\n",
       "Name: Outcome, dtype: float64"
      ]
     },
     "execution_count": 23,
     "metadata": {},
     "output_type": "execute_result"
    }
   ],
   "source": [
    "data['Outcome'].value_counts()/np.float(len(data))"
   ]
  },
  {
   "cell_type": "code",
   "execution_count": 24,
   "id": "a15617f1",
   "metadata": {},
   "outputs": [
    {
     "name": "stdout",
     "output_type": "stream",
     "text": [
      "                                                 Sentence Outcome\n",
      "count                                                  29      29\n",
      "unique                                                 29       4\n",
      "top     What is the difference between depression and ...       P\n",
      "freq                                                    1       8\n"
     ]
    }
   ],
   "source": [
    "print(round(data.describe(),4))"
   ]
  },
  {
   "cell_type": "markdown",
   "id": "3eb2d197",
   "metadata": {},
   "source": [
    "# Feature Vector and Target Variable"
   ]
  },
  {
   "cell_type": "code",
   "execution_count": 25,
   "id": "b8a2bd41",
   "metadata": {},
   "outputs": [],
   "source": [
    "x=data.drop([\"Outcome\"],axis=1)\n",
    "y=data[\"Outcome\"]"
   ]
  },
  {
   "cell_type": "code",
   "execution_count": 32,
   "id": "99319a1f",
   "metadata": {},
   "outputs": [],
   "source": [
    "import nltk\n",
    "from nltk.corpus import stopwords\n",
    "from sklearn.feature_extraction.text import CountVectorizer\n",
    "from sklearn.ensemble import RandomForestClassifier\n",
    "from sklearn.metrics import accuracy_score\n",
    "from sklearn.model_selection import train_test_split\n",
    "import re"
   ]
  },
  {
   "cell_type": "code",
   "execution_count": 33,
   "id": "5ed413e5",
   "metadata": {},
   "outputs": [
    {
     "data": {
      "text/plain": [
       "0     What is the difference between depression and ...\n",
       "1     What are other psychiatric conditions that can...\n",
       "2     Why is depression more prevalent in women than...\n",
       "3     What happens during menopause with regards to ...\n",
       "4     What efforts are underway to improve treatment...\n",
       "5     Why have researchers so far failed to identify...\n",
       "6     Could other health conditions be contributing ...\n",
       "7                              Is depression treatable?\n",
       "8              How is depression diagnosed and treated?\n",
       "9     What is the most promising recent development ...\n",
       "10    How can treatment-resistant depression be trea...\n",
       "11    What ideas are on the horizon for better, more...\n",
       "12      Can brain scans guide treatment for depression?\n",
       "13           Do I need medicine to treat my depression?\n",
       "14               Can depression affect physical health?\n",
       "15      What are some of the treatments for depression?\n",
       "16                 What about depression later in life?\n",
       "17    How might depression affect my appetite and we...\n",
       "18                How could depression affect my sleep?\n",
       "19          Can depression cause lack of concentration?\n",
       "20     Could my depression be causing me physical pain?\n",
       "21                   What are the causes of depression?\n",
       "22                        Who is at risk of depression?\n",
       "23                      Can depression affect children?\n",
       "24                       What is postpartum depression?\n",
       "25                                  What is depression?\n",
       "26    What are some of the signs and symptoms of dep...\n",
       "27                 What is Postpartum Depression (PPD)?\n",
       "28              What is treatment-resistant depression?\n",
       "Name: Sentence, dtype: object"
      ]
     },
     "execution_count": 33,
     "metadata": {},
     "output_type": "execute_result"
    }
   ],
   "source": [
    "word_corpus=data[\"Sentence\"]\n",
    "word_corpus"
   ]
  },
  {
   "cell_type": "code",
   "execution_count": 37,
   "id": "4ae5cb6d",
   "metadata": {},
   "outputs": [
    {
     "name": "stdout",
     "output_type": "stream",
     "text": [
      "      What is the difference between depression and           What are other psychiatric conditions that can          Why is depression more prevalent in women than          What happens during menopause with regards to           What efforts are underway to improve treatment          Why have researchers so far failed to identify          Could other health conditions be contributing                                    Is depression treatable                 How is depression diagnosed and treated        What is the most promising recent development           How can treatment resistant depression be trea          What ideas are on the horizon for better  more            Can brain scans guide treatment for depression               Do I need medicine to treat my depression                   Can depression affect physical health          What are some of the treatments for depression                     What about depression later in life        How might depression affect my appetite and we                      How could depression affect my sleep              Can depression cause lack of concentration         Could my depression be causing me physical pain                       What are the causes of depression                            Who is at risk of depression                          Can depression affect children                           What is postpartum depression                                      What is depression        What are some of the signs and symptoms of dep                       What is Postpartum Depression  PPD                   What is treatment resistant depression  Name  Sentence  dtype  object\n"
     ]
    }
   ],
   "source": [
    "words_only=re.sub(\"[^a-zA-Z]\", \" \",str(word_corpus))\n",
    "print(words_only)"
   ]
  },
  {
   "cell_type": "code",
   "execution_count": 38,
   "id": "783fbbca",
   "metadata": {},
   "outputs": [
    {
     "name": "stdout",
     "output_type": "stream",
     "text": [
      "['what', 'is', 'the', 'difference', 'between', 'depression', 'and', 'what', 'are', 'other', 'psychiatric', 'conditions', 'that', 'can', 'why', 'is', 'depression', 'more', 'prevalent', 'in', 'women', 'than', 'what', 'happens', 'during', 'menopause', 'with', 'regards', 'to', 'what', 'efforts', 'are', 'underway', 'to', 'improve', 'treatment', 'why', 'have', 'researchers', 'so', 'far', 'failed', 'to', 'identify', 'could', 'other', 'health', 'conditions', 'be', 'contributing', 'is', 'depression', 'treatable', 'how', 'is', 'depression', 'diagnosed', 'and', 'treated', 'what', 'is', 'the', 'most', 'promising', 'recent', 'development', 'how', 'can', 'treatment', 'resistant', 'depression', 'be', 'trea', 'what', 'ideas', 'are', 'on', 'the', 'horizon', 'for', 'better', 'more', 'can', 'brain', 'scans', 'guide', 'treatment', 'for', 'depression', 'do', 'i', 'need', 'medicine', 'to', 'treat', 'my', 'depression', 'can', 'depression', 'affect', 'physical', 'health', 'what', 'are', 'some', 'of', 'the', 'treatments', 'for', 'depression', 'what', 'about', 'depression', 'later', 'in', 'life', 'how', 'might', 'depression', 'affect', 'my', 'appetite', 'and', 'we', 'how', 'could', 'depression', 'affect', 'my', 'sleep', 'can', 'depression', 'cause', 'lack', 'of', 'concentration', 'could', 'my', 'depression', 'be', 'causing', 'me', 'physical', 'pain', 'what', 'are', 'the', 'causes', 'of', 'depression', 'who', 'is', 'at', 'risk', 'of', 'depression', 'can', 'depression', 'affect', 'children', 'what', 'is', 'postpartum', 'depression', 'what', 'is', 'depression', 'what', 'are', 'some', 'of', 'the', 'signs', 'and', 'symptoms', 'of', 'dep', 'what', 'is', 'postpartum', 'depression', 'ppd', 'what', 'is', 'treatment', 'resistant', 'depression', 'name', 'sentence', 'dtype', 'object']\n"
     ]
    }
   ],
   "source": [
    "words=words_only.lower().split()\n",
    "print(words)"
   ]
  },
  {
   "cell_type": "code",
   "execution_count": 40,
   "id": "3f4371d3",
   "metadata": {},
   "outputs": [
    {
     "name": "stdout",
     "output_type": "stream",
     "text": [
      "['i', 'me', 'my', 'myself', 'we', 'our', 'ours', 'ourselves', 'you', \"you're\", \"you've\", \"you'll\", \"you'd\", 'your', 'yours', 'yourself', 'yourselves', 'he', 'him', 'his', 'himself', 'she', \"she's\", 'her', 'hers', 'herself', 'it', \"it's\", 'its', 'itself', 'they', 'them', 'their', 'theirs', 'themselves', 'what', 'which', 'who', 'whom', 'this', 'that', \"that'll\", 'these', 'those', 'am', 'is', 'are', 'was', 'were', 'be', 'been', 'being', 'have', 'has', 'had', 'having', 'do', 'does', 'did', 'doing', 'a', 'an', 'the', 'and', 'but', 'if', 'or', 'because', 'as', 'until', 'while', 'of', 'at', 'by', 'for', 'with', 'about', 'against', 'between', 'into', 'through', 'during', 'before', 'after', 'above', 'below', 'to', 'from', 'up', 'down', 'in', 'out', 'on', 'off', 'over', 'under', 'again', 'further', 'then', 'once', 'here', 'there', 'when', 'where', 'why', 'how', 'all', 'any', 'both', 'each', 'few', 'more', 'most', 'other', 'some', 'such', 'no', 'nor', 'not', 'only', 'own', 'same', 'so', 'than', 'too', 'very', 's', 't', 'can', 'will', 'just', 'don', \"don't\", 'should', \"should've\", 'now', 'd', 'll', 'm', 'o', 're', 've', 'y', 'ain', 'aren', \"aren't\", 'couldn', \"couldn't\", 'didn', \"didn't\", 'doesn', \"doesn't\", 'hadn', \"hadn't\", 'hasn', \"hasn't\", 'haven', \"haven't\", 'isn', \"isn't\", 'ma', 'mightn', \"mightn't\", 'mustn', \"mustn't\", 'needn', \"needn't\", 'shan', \"shan't\", 'shouldn', \"shouldn't\", 'wasn', \"wasn't\", 'weren', \"weren't\", 'won', \"won't\", 'wouldn', \"wouldn't\"]\n"
     ]
    }
   ],
   "source": [
    "print(stopwords.words(\"English\"))"
   ]
  },
  {
   "cell_type": "code",
   "execution_count": 41,
   "id": "40ed34e3",
   "metadata": {},
   "outputs": [
    {
     "name": "stdout",
     "output_type": "stream",
     "text": [
      "['difference', 'depression', 'psychiatric', 'conditions', 'depression', 'prevalent', 'women', 'happens', 'menopause', 'regards', 'efforts', 'underway', 'improve', 'treatment', 'researchers', 'far', 'failed', 'identify', 'could', 'health', 'conditions', 'contributing', 'depression', 'treatable', 'depression', 'diagnosed', 'treated', 'promising', 'recent', 'development', 'treatment', 'resistant', 'depression', 'trea', 'ideas', 'horizon', 'better', 'brain', 'scans', 'guide', 'treatment', 'depression', 'need', 'medicine', 'treat', 'depression', 'depression', 'affect', 'physical', 'health', 'treatments', 'depression', 'depression', 'later', 'life', 'might', 'depression', 'affect', 'appetite', 'could', 'depression', 'affect', 'sleep', 'depression', 'cause', 'lack', 'concentration', 'could', 'depression', 'causing', 'physical', 'pain', 'causes', 'depression', 'risk', 'depression', 'depression', 'affect', 'children', 'postpartum', 'depression', 'depression', 'signs', 'symptoms', 'dep', 'postpartum', 'depression', 'ppd', 'treatment', 'resistant', 'depression', 'name', 'sentence', 'dtype', 'object']\n"
     ]
    }
   ],
   "source": [
    "words_clean=[]\n",
    "for word in words:\n",
    "    if word not in stopwords.words(\"English\"):\n",
    "        words_clean.append(word)\n",
    "print(words_clean)"
   ]
  },
  {
   "cell_type": "code",
   "execution_count": null,
   "id": "6f3c238f",
   "metadata": {},
   "outputs": [],
   "source": []
  }
 ],
 "metadata": {
  "kernelspec": {
   "display_name": "Python 3.10.6 64-bit",
   "language": "python",
   "name": "python3"
  },
  "language_info": {
   "codemirror_mode": {
    "name": "ipython",
    "version": 3
   },
   "file_extension": ".py",
   "mimetype": "text/x-python",
   "name": "python",
   "nbconvert_exporter": "python",
   "pygments_lexer": "ipython3",
   "version": "3.10.6"
  },
  "vscode": {
   "interpreter": {
    "hash": "18564bbb9f021b1d28547a7b84af2e6ed6a54b82a9c5606a62d58a0773ce96d3"
   }
  }
 },
 "nbformat": 4,
 "nbformat_minor": 5
}
